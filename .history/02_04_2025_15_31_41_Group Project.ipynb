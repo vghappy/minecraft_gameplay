{
 "cells": [
  {
   "cell_type": "markdown",
   "id": "628541bf-d84a-46d4-8587-eeef850912a0",
   "metadata": {},
   "source": [
    "## Minecraft Player Data Analysis Project"
   ]
  },
  {
   "cell_type": "markdown",
   "id": "01f52c4d-ec0e-4633-b542-e225d905bef1",
   "metadata": {},
   "source": [
    "![Minecraft](https://upload.wikimedia.org/wikipedia/en/b/b6/Minecraft_2024_cover_art.png)"
   ]
  },
  {
   "cell_type": "markdown",
   "id": "573c2980-abcc-4baa-ad79-49cc6e8f2cbe",
   "metadata": {},
   "source": [
    "## Introduction\n",
    "#### Background Information\n",
    "Aresearch group in Computer Science at UBC, led by Frank Wood, is collecting data about how people play video games. They record players' actions as they play through a MineCraft serverLinks to an external site.\n",
    "\n",
    "#### Question 2\n",
    "We would like to know which \"kinds\" of players are most likely to contribute a large amount of data so that we can target those players in our recruiting efforts.\n",
    "\n"
   ]
  },
  {
   "cell_type": "markdown",
   "id": "9b23a48a-7dca-45d9-91c4-2997d522cb2d",
   "metadata": {},
   "source": [
    "## Players Dataset Overview:\n",
    "This dataset observes Minecraft user's gaming experience and contains information like player status, subscription, playtime, and demographics. \n",
    "* Number of observations (rows): 196\n",
    "* Number of variables (columns): 7\n"
   ]
  },
  {
   "cell_type": "markdown",
   "id": "63a29611-d868-49b5-b946-d8d71ecbfe39",
   "metadata": {},
   "source": [
    "## Columns in the Players Data Set:\n",
    "### Numerical (dbl):\n",
    "* `played_hours` - The number of hours the user has played.\n",
    "* `Age`- the age of the player.\n",
    "\n",
    "### Character (chr):\n",
    "* `hashedEmail`- encrypted email for user identification.\n",
    "* `name`- The name of the player.\n",
    "* `gender`- Classified as either Male, Female, Non-binary, or Prefer not to say\n",
    "* `experience`- The level of experience classified (Pro, Veteran, Regular, Amatuer, or Beginner)\n",
    "\n",
    "### Logical (lgl)\n",
    "* `subscribe`- Wheteher the player is subscribed (either TRUE or FALSE)\n",
    "\n",
    "\n"
   ]
  },
  {
   "cell_type": "markdown",
   "id": "29bfdee1-6e15-4976-98f7-98e3a81eb91b",
   "metadata": {},
   "source": [
    "## Sessions Dataset Overview:\n",
    "This dataset tracks player's sessions, such as hashed email, start times and end times (one is human-readable, the other is UNIX timestamped).\n",
    "* Number of observations (rows): 1535\n",
    "* Number of variables (columns): 5\n",
    "\n",
    "\n",
    "## Columns in the Sessions Data Set:\n",
    "\n",
    "### Character (chr):\n",
    "* `hashedEmail`- encrypted and anonymous user identification. \n",
    "* `start_time`- Session start time (DD/MM/YYYY Hour:Minute)\n",
    "* `end_time`- Session end time (DD/MM/YYYY Hour:Minute)\n",
    "\n",
    "### Numerical (dbl):\n",
    "* `original_start_time`- UNIX timestamp of session start time.\n",
    "* `original_end_time`- UNIX timestamp of session end time.\n"
   ]
  },
  {
   "cell_type": "markdown",
   "id": "1d7e91c1-ef0c-4db9-95c0-11f5470e6456",
   "metadata": {},
   "source": [
    "# Methods and Results\n",
    "* Describe the methods you used to perform your analysis from beginning to end that narrates the analysis code"
   ]
  },
  {
   "cell_type": "code",
   "execution_count": null,
   "id": "98561fe8-cda2-49f5-8a40-b1aacd35c2fe",
   "metadata": {},
   "outputs": [],
   "source": [
    "library(tidyverse)\n",
    "library(tidymodels)\n",
    "set.seed(123)"
   ]
  },
  {
   "cell_type": "code",
   "execution_count": null,
   "id": "b6eba08d-edc3-4785-9c55-0cb22653ddf5",
   "metadata": {},
   "outputs": [],
   "source": [
    "url<- \"https://drive.google.com/uc?export=download&id=1jv3p3Ai0a1pNS-hk7csk1I9l21fYy-_t\"\n",
    "players<-read_csv(url)\n",
    "head(players)"
   ]
  },
  {
   "cell_type": "code",
   "execution_count": null,
   "id": "9eb313ea-519f-4872-82be-2ec098f126d5",
   "metadata": {},
   "outputs": [],
   "source": [
    "mean_values<- players|>\n",
    "summarise(\n",
    "    mean_played_hours= mean(played_hours, na.rm=TRUE),\n",
    "    mean_age= mean(Age, na.rm=TRUE),)\n",
    "mean_values\n",
    "\n",
    "Summary_statistics_players<- players|>\n",
    "summarise(\n",
    "    min_played_hours= min(played_hours, na.rm=TRUE),\n",
    "    min_age= min(Age, na.rm=TRUE),\n",
    "    max_played_hours= max(played_hours, na.rm=TRUE),\n",
    "    max_age= max(Age, na.rm=TRUE))\n",
    "Summary_statistics_players\n",
    "\n"
   ]
  },
  {
   "cell_type": "code",
   "execution_count": null,
   "id": "55da2c29-9b43-4085-9876-0141b06b95ee",
   "metadata": {},
   "outputs": [],
   "source": [
    "players_clean<- players|>\n",
    "drop_na(Age, played_hours)\n",
    "head(players_clean)\n",
    "\n",
    "\n",
    "player_filtered<- filter(players_clean, Age<30, played_hours>0 & played_hours<10)\n",
    "head(player_filtered)\n",
    "\n",
    "Minecraft_plot<- player_filtered|>\n",
    "ggplot(aes(x=Age, y=played_hours))+\n",
    "geom_point()+\n",
    "xlab(\"Age of Players\")+\n",
    "ylab(\"Hours Played Minecraft\")+\n",
    "theme(text=element_text(size=13))+\n",
    "ggtitle(\"Relationship Between Minecraft User Age and Hours Played\")\n",
    "Minecraft_plot\n",
    "\n"
   ]
  },
  {
   "cell_type": "code",
   "execution_count": null,
   "id": "bf35203d-25b4-4edb-a682-0d0d7e856655",
   "metadata": {},
   "outputs": [],
   "source": [
    "url<- \"https://drive.google.com/uc?export=download&id=1QRsHcWfUyvOWJpKgwFCw3csjRN5NL1L3\"\n",
    "sessions<- read_csv(url)\n",
    "head(sessions)"
   ]
  },
  {
   "cell_type": "markdown",
   "id": "29f8f058-4bc2-484c-85d0-290db1585166",
   "metadata": {},
   "source": [
    "## Discussion:\n",
    "* summarize what you found\n",
    "* discuss whether this is what you expected to find?\n",
    "* discuss what impact could such findings have?\n",
    "* discuss what future questions could this lead to?\n"
   ]
  },
  {
   "cell_type": "code",
   "execution_count": null,
   "id": "57c6914b-7daa-4998-9260-f8eb2c5d429c",
   "metadata": {},
   "outputs": [],
   "source": []
  }
 ],
 "metadata": {
  "kernelspec": {
   "display_name": "R",
   "language": "R",
   "name": "ir"
  },
  "language_info": {
   "codemirror_mode": "r",
   "file_extension": ".r",
   "mimetype": "text/x-r-source",
   "name": "R",
   "pygments_lexer": "r",
   "version": "4.3.3"
  }
 },
 "nbformat": 4,
 "nbformat_minor": 5
}
